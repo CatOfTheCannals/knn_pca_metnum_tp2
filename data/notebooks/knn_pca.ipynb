{
 "cells": [
  {
   "cell_type": "code",
   "execution_count": 123,
   "metadata": {
    "collapsed": true
   },
   "outputs": [],
   "source": [
    "import pandas as pd \n",
    "import seaborn as sns\n",
    "\n",
    "df_12501 = pd.read_csv(\"../results/pca_knn_cuali_cuanti_experiment_results_n_12501.csv\")\n",
    "df_5001 = pd.read_csv(\"../results/pca_knn_cuali_cuanti_experiment_results_n_5001.csv\")\n",
    "df_501 = pd.read_csv(\"../results/pca_knn_cuali_cuanti_experiment_results_n_501.csv\")\n",
    "df_2001 = pd.read_csv(\"../results/pca_knn_cuali_cuanti_experiment_results_n_2001.csv\")\n",
    "df_10001 = pd.read_csv(\"../results/pca_knn_cuali_cuanti_experiment_results_n_10001.csv\")"
   ]
  },
  {
   "cell_type": "code",
   "execution_count": 121,
   "metadata": {},
   "outputs": [
    {
     "data": {
      "text/plain": [
       "0       33194082676\n",
       "1       33125380633\n",
       "2       33122054762\n",
       "3       33108169214\n",
       "4       33104910606\n",
       "5       33114027879\n",
       "6       33123352103\n",
       "7       33193577901\n",
       "8       42865036302\n",
       "9       42586413512\n",
       "10      42564571554\n",
       "11      42567284558\n",
       "12      42580877363\n",
       "13      42613163401\n",
       "14      42638922526\n",
       "15      42662987950\n",
       "16      51312747556\n",
       "17      50877596740\n",
       "18      50867857791\n",
       "19      50883859458\n",
       "20      50911160525\n",
       "21      50916925877\n",
       "22      50918529553\n",
       "23      50942916086\n",
       "24      60241237846\n",
       "25      59694312159\n",
       "26      59732948735\n",
       "27      59754107421\n",
       "28      59693701941\n",
       "29      59806777983\n",
       "          ...      \n",
       "42     197012504908\n",
       "43     196872749390\n",
       "44     197084372826\n",
       "45     197427314795\n",
       "46     197572329350\n",
       "47     197607574522\n",
       "48    1024925833869\n",
       "49    1004389734996\n",
       "50    1006649767178\n",
       "51    1008731241967\n",
       "52    1006769566066\n",
       "53     993723500326\n",
       "54    1000934800369\n",
       "55    1003881890157\n",
       "56    2426518631142\n",
       "57    2385061197596\n",
       "58    2378142964749\n",
       "59    2435503115186\n",
       "60    2414549475750\n",
       "61    2396975785065\n",
       "62    2395258783815\n",
       "63    2368453949412\n",
       "64    2952866947457\n",
       "65    2891116419126\n",
       "66    2893808780894\n",
       "67    2895414507518\n",
       "68    2896556107078\n",
       "69    2897281742264\n",
       "70    2897930991499\n",
       "71    2898686546468\n",
       "Name: time, Length: 72, dtype: int64"
      ]
     },
     "execution_count": 121,
     "metadata": {},
     "output_type": "execute_result"
    }
   ],
   "source": [
    "df_12501.time"
   ]
  },
  {
   "cell_type": "code",
   "execution_count": 59,
   "metadata": {
    "collapsed": true
   },
   "outputs": [],
   "source": [
    "list(df)\n",
    "%matplotlib inline"
   ]
  },
  {
   "cell_type": "code",
   "execution_count": 64,
   "metadata": {},
   "outputs": [
    {
     "data": {
      "text/html": [
       "<div>\n",
       "<style scoped>\n",
       "    .dataframe tbody tr th:only-of-type {\n",
       "        vertical-align: middle;\n",
       "    }\n",
       "\n",
       "    .dataframe tbody tr th {\n",
       "        vertical-align: top;\n",
       "    }\n",
       "\n",
       "    .dataframe thead th {\n",
       "        text-align: right;\n",
       "    }\n",
       "</style>\n",
       "<table border=\"1\" class=\"dataframe\">\n",
       "  <thead>\n",
       "    <tr style=\"text-align: right;\">\n",
       "      <th>k</th>\n",
       "      <th>25</th>\n",
       "      <th>50</th>\n",
       "      <th>75</th>\n",
       "      <th>125</th>\n",
       "      <th>250</th>\n",
       "      <th>625</th>\n",
       "      <th>1250</th>\n",
       "      <th>1875</th>\n",
       "    </tr>\n",
       "    <tr>\n",
       "      <th>alpha</th>\n",
       "      <th></th>\n",
       "      <th></th>\n",
       "      <th></th>\n",
       "      <th></th>\n",
       "      <th></th>\n",
       "      <th></th>\n",
       "      <th></th>\n",
       "      <th></th>\n",
       "    </tr>\n",
       "  </thead>\n",
       "  <tbody>\n",
       "    <tr>\n",
       "      <th>5</th>\n",
       "      <td>0.58888</td>\n",
       "      <td>0.59260</td>\n",
       "      <td>0.59324</td>\n",
       "      <td>0.59764</td>\n",
       "      <td>0.59592</td>\n",
       "      <td>0.59472</td>\n",
       "      <td>0.59184</td>\n",
       "      <td>0.58964</td>\n",
       "    </tr>\n",
       "    <tr>\n",
       "      <th>10</th>\n",
       "      <td>0.61316</td>\n",
       "      <td>0.61720</td>\n",
       "      <td>0.62012</td>\n",
       "      <td>0.61832</td>\n",
       "      <td>0.61724</td>\n",
       "      <td>0.61448</td>\n",
       "      <td>0.60684</td>\n",
       "      <td>0.60560</td>\n",
       "    </tr>\n",
       "    <tr>\n",
       "      <th>15</th>\n",
       "      <td>0.62120</td>\n",
       "      <td>0.62428</td>\n",
       "      <td>0.62524</td>\n",
       "      <td>0.62404</td>\n",
       "      <td>0.62384</td>\n",
       "      <td>0.61964</td>\n",
       "      <td>0.61264</td>\n",
       "      <td>0.61028</td>\n",
       "    </tr>\n",
       "    <tr>\n",
       "      <th>20</th>\n",
       "      <td>0.63092</td>\n",
       "      <td>0.63276</td>\n",
       "      <td>0.63432</td>\n",
       "      <td>0.63812</td>\n",
       "      <td>0.63340</td>\n",
       "      <td>0.62676</td>\n",
       "      <td>0.62076</td>\n",
       "      <td>0.61608</td>\n",
       "    </tr>\n",
       "    <tr>\n",
       "      <th>50</th>\n",
       "      <td>0.65940</td>\n",
       "      <td>0.65736</td>\n",
       "      <td>0.66224</td>\n",
       "      <td>0.65880</td>\n",
       "      <td>0.65816</td>\n",
       "      <td>0.64772</td>\n",
       "      <td>0.63972</td>\n",
       "      <td>0.63300</td>\n",
       "    </tr>\n",
       "    <tr>\n",
       "      <th>100</th>\n",
       "      <td>0.65668</td>\n",
       "      <td>0.65596</td>\n",
       "      <td>0.65836</td>\n",
       "      <td>0.65708</td>\n",
       "      <td>0.65280</td>\n",
       "      <td>0.64564</td>\n",
       "      <td>0.63624</td>\n",
       "      <td>0.63292</td>\n",
       "    </tr>\n",
       "    <tr>\n",
       "      <th>500</th>\n",
       "      <td>0.65544</td>\n",
       "      <td>0.65468</td>\n",
       "      <td>0.65948</td>\n",
       "      <td>0.65812</td>\n",
       "      <td>0.65428</td>\n",
       "      <td>0.64604</td>\n",
       "      <td>0.63832</td>\n",
       "      <td>0.63604</td>\n",
       "    </tr>\n",
       "    <tr>\n",
       "      <th>1200</th>\n",
       "      <td>0.66008</td>\n",
       "      <td>0.66176</td>\n",
       "      <td>0.66688</td>\n",
       "      <td>0.66384</td>\n",
       "      <td>0.65876</td>\n",
       "      <td>0.65128</td>\n",
       "      <td>0.64384</td>\n",
       "      <td>0.63960</td>\n",
       "    </tr>\n",
       "    <tr>\n",
       "      <th>1500</th>\n",
       "      <td>0.66136</td>\n",
       "      <td>0.66116</td>\n",
       "      <td>0.66428</td>\n",
       "      <td>0.66264</td>\n",
       "      <td>0.65372</td>\n",
       "      <td>0.64600</td>\n",
       "      <td>0.63704</td>\n",
       "      <td>0.63424</td>\n",
       "    </tr>\n",
       "  </tbody>\n",
       "</table>\n",
       "</div>"
      ],
      "text/plain": [
       "k         25       50       75       125      250      625      1250     1875\n",
       "alpha                                                                        \n",
       "5      0.58888  0.59260  0.59324  0.59764  0.59592  0.59472  0.59184  0.58964\n",
       "10     0.61316  0.61720  0.62012  0.61832  0.61724  0.61448  0.60684  0.60560\n",
       "15     0.62120  0.62428  0.62524  0.62404  0.62384  0.61964  0.61264  0.61028\n",
       "20     0.63092  0.63276  0.63432  0.63812  0.63340  0.62676  0.62076  0.61608\n",
       "50     0.65940  0.65736  0.66224  0.65880  0.65816  0.64772  0.63972  0.63300\n",
       "100    0.65668  0.65596  0.65836  0.65708  0.65280  0.64564  0.63624  0.63292\n",
       "500    0.65544  0.65468  0.65948  0.65812  0.65428  0.64604  0.63832  0.63604\n",
       "1200   0.66008  0.66176  0.66688  0.66384  0.65876  0.65128  0.64384  0.63960\n",
       "1500   0.66136  0.66116  0.66428  0.66264  0.65372  0.64600  0.63704  0.63424"
      ]
     },
     "execution_count": 64,
     "metadata": {},
     "output_type": "execute_result"
    }
   ],
   "source": [
    "METRIC = 'accuracy'\n",
    "df_graf2 = df[['alpha','k',METRIC]]\n",
    "df_graf1 = df[['alpha','k','time']]\n",
    "result = df_graf2.pivot(index='alpha', columns='k', values=METRIC)\n",
    "result"
   ]
  },
  {
   "cell_type": "code",
   "execution_count": 65,
   "metadata": {},
   "outputs": [
    {
     "name": "stderr",
     "output_type": "stream",
     "text": [
      "/Users/lstrika/anaconda2/lib/python2.7/site-packages/ipykernel_launcher.py:3: SettingWithCopyWarning: \n",
      "A value is trying to be set on a copy of a slice from a DataFrame.\n",
      "Try using .loc[row_indexer,col_indexer] = value instead\n",
      "\n",
      "See the caveats in the documentation: http://pandas.pydata.org/pandas-docs/stable/indexing.html#indexing-view-versus-copy\n",
      "  This is separate from the ipykernel package so we can avoid doing imports until\n"
     ]
    },
    {
     "data": {
      "image/png": "[encoded data removed]",
      "text/plain": [
       "<matplotlib.figure.Figure at 0x1a1aec5a90>"
      ]
     },
     "metadata": {},
     "output_type": "display_data"
    }
   ],
   "source": [
    "import matplotlib.pyplot as plt\n",
    "import seaborn as sns\n",
    "df_graf1['seconds'] = df_graf1.time/1e9\n",
    "scatter_plot = sns.relplot(data=df_graf1, x='alpha', y='seconds')\n",
    "# scatter_plot.fig.set_title('Tiempo de clasificar el test set en función de alpha, repetido 8 veces \\n')\n",
    "plt.title('Tiempo de clasificar el test set para cada alfa, repetido 8 veces \\n')\n",
    "plt.xlabel('Alfa')\n",
    "plt.ylabel('tiempo (segundos)')\n",
    "scatter_plot.savefig('tiempo_funcion_de_alfa_clasificar')"
   ]
  },
  {
   "cell_type": "code",
   "execution_count": 66,
   "metadata": {},
   "outputs": [
    {
     "data": {
      "text/plain": [
       "['barplot',\n",
       " 'boxenplot',\n",
       " 'boxplot',\n",
       " 'catplot',\n",
       " 'countplot',\n",
       " 'distplot',\n",
       " 'dogplot',\n",
       " 'factorplot',\n",
       " 'jointplot',\n",
       " 'kdeplot',\n",
       " 'lineplot',\n",
       " 'lmplot',\n",
       " 'lvplot',\n",
       " 'miscplot',\n",
       " 'pairplot',\n",
       " 'palplot',\n",
       " 'plotting_context',\n",
       " 'pointplot',\n",
       " 'regplot',\n",
       " 'relplot',\n",
       " 'residplot',\n",
       " 'rugplot',\n",
       " 'scatterplot',\n",
       " 'stripplot',\n",
       " 'swarmplot',\n",
       " 'tsplot',\n",
       " 'violinplot']"
      ]
     },
     "execution_count": 66,
     "metadata": {},
     "output_type": "execute_result"
    }
   ],
   "source": [
    "[x for x in dir(sns) if 'plot' in x]"
   ]
  },
  {
   "cell_type": "code",
   "execution_count": 111,
   "metadata": {},
   "outputs": [
    {
     "data": {
      "image/png": "[encoded data removed]",
      "text/plain": [
       "<matplotlib.figure.Figure at 0x1a1be47450>"
      ]
     },
     "metadata": {},
     "output_type": "display_data"
    }
   ],
   "source": [
    "METRIC = 'accuracy'\n",
    "df_graf2 = df[['alpha','k',METRIC]]\n",
    "df_graf1 = df[['alpha','k','time']]\n",
    "result = df_graf2.pivot(index='alpha', columns='k', values=METRIC)\n",
    "heatmap = sns.heatmap(data=result)\n",
    "# scatter_plot.fig.set_title('Tiempo de clasificar el test set en función de alpha, repetido 8 veces \\n')\n",
    "plt.title('Accuracy variando k y Alfa \\n')\n",
    "plt.xlabel('k')\n",
    "plt.ylabel('Alfa')\n",
    "heatmap.get_figure().savefig('heatmap_accuracy_alpha_k')"
   ]
  },
  {
   "cell_type": "code",
   "execution_count": 112,
   "metadata": {
    "collapsed": true
   },
   "outputs": [],
   "source": [
    "df['recall 0'] = df.recall.apply(lambda x: float(str(x)[1:-1].split(',')[0]))\n",
    "df['recall 1'] = df.recall.apply(lambda x: float(str(x)[1:-1].split(',')[1]))"
   ]
  },
  {
   "cell_type": "code",
   "execution_count": 83,
   "metadata": {},
   "outputs": [
    {
     "data": {
      "text/html": [
       "<div>\n",
       "<style scoped>\n",
       "    .dataframe tbody tr th:only-of-type {\n",
       "        vertical-align: middle;\n",
       "    }\n",
       "\n",
       "    .dataframe tbody tr th {\n",
       "        vertical-align: top;\n",
       "    }\n",
       "\n",
       "    .dataframe thead th {\n",
       "        text-align: right;\n",
       "    }\n",
       "</style>\n",
       "<table border=\"1\" class=\"dataframe\">\n",
       "  <thead>\n",
       "    <tr style=\"text-align: right;\">\n",
       "      <th>k</th>\n",
       "      <th>25</th>\n",
       "      <th>50</th>\n",
       "      <th>75</th>\n",
       "      <th>125</th>\n",
       "      <th>250</th>\n",
       "      <th>625</th>\n",
       "      <th>1250</th>\n",
       "      <th>1875</th>\n",
       "    </tr>\n",
       "    <tr>\n",
       "      <th>alpha</th>\n",
       "      <th></th>\n",
       "      <th></th>\n",
       "      <th></th>\n",
       "      <th></th>\n",
       "      <th></th>\n",
       "      <th></th>\n",
       "      <th></th>\n",
       "      <th></th>\n",
       "    </tr>\n",
       "  </thead>\n",
       "  <tbody>\n",
       "    <tr>\n",
       "      <th>5</th>\n",
       "      <td>0.64488</td>\n",
       "      <td>0.69368</td>\n",
       "      <td>0.68056</td>\n",
       "      <td>0.69784</td>\n",
       "      <td>0.71744</td>\n",
       "      <td>0.73248</td>\n",
       "      <td>0.74784</td>\n",
       "      <td>0.75416</td>\n",
       "    </tr>\n",
       "    <tr>\n",
       "      <th>10</th>\n",
       "      <td>0.68360</td>\n",
       "      <td>0.72832</td>\n",
       "      <td>0.71520</td>\n",
       "      <td>0.72328</td>\n",
       "      <td>0.74192</td>\n",
       "      <td>0.75352</td>\n",
       "      <td>0.76144</td>\n",
       "      <td>0.77000</td>\n",
       "    </tr>\n",
       "    <tr>\n",
       "      <th>15</th>\n",
       "      <td>0.71584</td>\n",
       "      <td>0.76048</td>\n",
       "      <td>0.74752</td>\n",
       "      <td>0.75504</td>\n",
       "      <td>0.77528</td>\n",
       "      <td>0.78272</td>\n",
       "      <td>0.79552</td>\n",
       "      <td>0.80176</td>\n",
       "    </tr>\n",
       "    <tr>\n",
       "      <th>20</th>\n",
       "      <td>0.72800</td>\n",
       "      <td>0.76888</td>\n",
       "      <td>0.75632</td>\n",
       "      <td>0.77144</td>\n",
       "      <td>0.78760</td>\n",
       "      <td>0.79824</td>\n",
       "      <td>0.81144</td>\n",
       "      <td>0.81848</td>\n",
       "    </tr>\n",
       "    <tr>\n",
       "      <th>50</th>\n",
       "      <td>0.72408</td>\n",
       "      <td>0.75880</td>\n",
       "      <td>0.75056</td>\n",
       "      <td>0.75680</td>\n",
       "      <td>0.77256</td>\n",
       "      <td>0.77936</td>\n",
       "      <td>0.78944</td>\n",
       "      <td>0.79640</td>\n",
       "    </tr>\n",
       "    <tr>\n",
       "      <th>100</th>\n",
       "      <td>0.73016</td>\n",
       "      <td>0.76768</td>\n",
       "      <td>0.75488</td>\n",
       "      <td>0.76600</td>\n",
       "      <td>0.77976</td>\n",
       "      <td>0.78784</td>\n",
       "      <td>0.79736</td>\n",
       "      <td>0.80368</td>\n",
       "    </tr>\n",
       "    <tr>\n",
       "      <th>500</th>\n",
       "      <td>0.74704</td>\n",
       "      <td>0.78784</td>\n",
       "      <td>0.77816</td>\n",
       "      <td>0.78952</td>\n",
       "      <td>0.80448</td>\n",
       "      <td>0.80528</td>\n",
       "      <td>0.81120</td>\n",
       "      <td>0.81856</td>\n",
       "    </tr>\n",
       "    <tr>\n",
       "      <th>1200</th>\n",
       "      <td>0.74608</td>\n",
       "      <td>0.78856</td>\n",
       "      <td>0.78136</td>\n",
       "      <td>0.79464</td>\n",
       "      <td>0.81648</td>\n",
       "      <td>0.82576</td>\n",
       "      <td>0.83504</td>\n",
       "      <td>0.84232</td>\n",
       "    </tr>\n",
       "    <tr>\n",
       "      <th>1500</th>\n",
       "      <td>0.75872</td>\n",
       "      <td>0.80168</td>\n",
       "      <td>0.79392</td>\n",
       "      <td>0.80680</td>\n",
       "      <td>0.82456</td>\n",
       "      <td>0.83040</td>\n",
       "      <td>0.83544</td>\n",
       "      <td>0.83968</td>\n",
       "    </tr>\n",
       "  </tbody>\n",
       "</table>\n",
       "</div>"
      ],
      "text/plain": [
       "k         25       50       75       125      250      625      1250     1875\n",
       "alpha                                                                        \n",
       "5      0.64488  0.69368  0.68056  0.69784  0.71744  0.73248  0.74784  0.75416\n",
       "10     0.68360  0.72832  0.71520  0.72328  0.74192  0.75352  0.76144  0.77000\n",
       "15     0.71584  0.76048  0.74752  0.75504  0.77528  0.78272  0.79552  0.80176\n",
       "20     0.72800  0.76888  0.75632  0.77144  0.78760  0.79824  0.81144  0.81848\n",
       "50     0.72408  0.75880  0.75056  0.75680  0.77256  0.77936  0.78944  0.79640\n",
       "100    0.73016  0.76768  0.75488  0.76600  0.77976  0.78784  0.79736  0.80368\n",
       "500    0.74704  0.78784  0.77816  0.78952  0.80448  0.80528  0.81120  0.81856\n",
       "1200   0.74608  0.78856  0.78136  0.79464  0.81648  0.82576  0.83504  0.84232\n",
       "1500   0.75872  0.80168  0.79392  0.80680  0.82456  0.83040  0.83544  0.83968"
      ]
     },
     "execution_count": 83,
     "metadata": {},
     "output_type": "execute_result"
    }
   ],
   "source": [
    "\n",
    "result_0"
   ]
  },
  {
   "cell_type": "code",
   "execution_count": 114,
   "metadata": {},
   "outputs": [
    {
     "data": {
      "image/png": "[encoded data removed]",
      "text/plain": [
       "<matplotlib.figure.Figure at 0x1a1afc9c10>"
      ]
     },
     "metadata": {},
     "output_type": "display_data"
    }
   ],
   "source": [
    "df_graf2 = df[['alpha','k','recall 0']]\n",
    "result_0 = df_graf2.pivot(index='alpha', columns='k', values='recall 0').dropna()\n",
    "heatmap_0 = sns.heatmap(data=result_0)\n",
    "# scatter_plot.fig.set_title('Tiempo de clasificar el test set en función de alpha, repetido 8 veces \\n')\n",
    "plt.title('Recall clase negativa variando k y Alfa \\n')\n",
    "plt.xlabel('k')\n",
    "plt.ylabel('Alfa')\n",
    "heatmap_0.get_figure().savefig('recall clase negativa')"
   ]
  },
  {
   "cell_type": "code",
   "execution_count": 115,
   "metadata": {},
   "outputs": [
    {
     "data": {
      "image/png": "[encoded data removed]",
      "text/plain": [
       "<matplotlib.figure.Figure at 0x1a1b480410>"
      ]
     },
     "metadata": {},
     "output_type": "display_data"
    }
   ],
   "source": [
    "df_graf2 = df[['alpha','k','recall 1']]\n",
    "result_1 = df_graf2.pivot(index='alpha', columns='k', values='recall 1').dropna()\n",
    "heatmap_1 = sns.heatmap(data=result_1)\n",
    "# scatter_plot.fig.set_title('Tiempo de clasificar el test set en función de alpha, repetido 8 veces \\n')\n",
    "plt.title('Recall clase positiva variando k y Alfa \\n')\n",
    "plt.xlabel('k')\n",
    "plt.ylabel('Alfa')\n",
    "heatmap_1.get_figure().savefig('recall clase positiva')"
   ]
  },
  {
   "cell_type": "code",
   "execution_count": 116,
   "metadata": {},
   "outputs": [
    {
     "data": {
      "image/png": "[encoded data removed]",
      "text/plain": [
       "<matplotlib.figure.Figure at 0x1a1b49e950>"
      ]
     },
     "metadata": {},
     "output_type": "display_data"
    }
   ],
   "source": [
    "METRIC = 'accuracy'\n",
    "df_graf2 = df1[['alpha','k',METRIC]]\n",
    "df_graf1 = df1[['alpha','k','time']]\n",
    "result = df_graf2.pivot(index='alpha', columns='k', values=METRIC)\n",
    "heatmap = sns.heatmap(data=result)\n",
    "# scatter_plot.fig.set_title('Tiempo de clasificar el test set en función de alpha, repetido 8 veces \\n')\n",
    "plt.title('Accuracy variando k y Alfa para un training set mas reducido (5001 instancias) \\n')\n",
    "plt.xlabel('k')\n",
    "plt.ylabel('Alfa')\n",
    "heatmap.get_figure().savefig('heatmap_accuracy_alpha_k_5001')"
   ]
  },
  {
   "cell_type": "code",
   "execution_count": 118,
   "metadata": {},
   "outputs": [
    {
     "data": {
      "text/html": [
       "<div>\n",
       "<style scoped>\n",
       "    .dataframe tbody tr th:only-of-type {\n",
       "        vertical-align: middle;\n",
       "    }\n",
       "\n",
       "    .dataframe tbody tr th {\n",
       "        vertical-align: top;\n",
       "    }\n",
       "\n",
       "    .dataframe thead th {\n",
       "        text-align: right;\n",
       "    }\n",
       "</style>\n",
       "<table border=\"1\" class=\"dataframe\">\n",
       "  <thead>\n",
       "    <tr style=\"text-align: right;\">\n",
       "      <th></th>\n",
       "      <th>alpha</th>\n",
       "      <th>k</th>\n",
       "      <th>accuracy</th>\n",
       "    </tr>\n",
       "  </thead>\n",
       "  <tbody>\n",
       "    <tr>\n",
       "      <th>32</th>\n",
       "      <td>50</td>\n",
       "      <td>10</td>\n",
       "      <td>0.62300</td>\n",
       "    </tr>\n",
       "    <tr>\n",
       "      <th>33</th>\n",
       "      <td>50</td>\n",
       "      <td>20</td>\n",
       "      <td>0.63796</td>\n",
       "    </tr>\n",
       "    <tr>\n",
       "      <th>34</th>\n",
       "      <td>50</td>\n",
       "      <td>30</td>\n",
       "      <td>0.64120</td>\n",
       "    </tr>\n",
       "    <tr>\n",
       "      <th>35</th>\n",
       "      <td>50</td>\n",
       "      <td>50</td>\n",
       "      <td>0.64228</td>\n",
       "    </tr>\n",
       "    <tr>\n",
       "      <th>36</th>\n",
       "      <td>50</td>\n",
       "      <td>100</td>\n",
       "      <td>0.64204</td>\n",
       "    </tr>\n",
       "    <tr>\n",
       "      <th>37</th>\n",
       "      <td>50</td>\n",
       "      <td>250</td>\n",
       "      <td>0.63368</td>\n",
       "    </tr>\n",
       "    <tr>\n",
       "      <th>38</th>\n",
       "      <td>50</td>\n",
       "      <td>500</td>\n",
       "      <td>0.62672</td>\n",
       "    </tr>\n",
       "    <tr>\n",
       "      <th>39</th>\n",
       "      <td>50</td>\n",
       "      <td>750</td>\n",
       "      <td>0.62240</td>\n",
       "    </tr>\n",
       "  </tbody>\n",
       "</table>\n",
       "</div>"
      ],
      "text/plain": [
       "    alpha    k  accuracy\n",
       "32     50   10   0.62300\n",
       "33     50   20   0.63796\n",
       "34     50   30   0.64120\n",
       "35     50   50   0.64228\n",
       "36     50  100   0.64204\n",
       "37     50  250   0.63368\n",
       "38     50  500   0.62672\n",
       "39     50  750   0.62240"
      ]
     },
     "execution_count": 118,
     "metadata": {},
     "output_type": "execute_result"
    }
   ],
   "source": [
    "df_graf2[df_graf2.alpha==50]"
   ]
  },
  {
   "cell_type": "code",
   "execution_count": 124,
   "metadata": {},
   "outputs": [
    {
     "data": {
      "text/plain": [
       "0.65723999999999994"
      ]
     },
     "execution_count": 124,
     "metadata": {},
     "output_type": "execute_result"
    }
   ],
   "source": [
    "df_10001.accuracy.max()"
   ]
  },
  {
   "cell_type": "code",
   "execution_count": 126,
   "metadata": {},
   "outputs": [
    {
     "data": {
      "image/png": "[encoded data removed]",
      "text/plain": [
       "<matplotlib.figure.Figure at 0x1a1c08d210>"
      ]
     },
     "metadata": {},
     "output_type": "display_data"
    }
   ],
   "source": [
    "result = df_graf1.pivot(index='alpha', columns='k', values='time')\n",
    "heatmap = sns.heatmap(data=result)\n",
    "# scatter_plot.fig.set_title('Tiempo de clasificar el test set en función de alpha, repetido 8 veces \\n')\n",
    "plt.title('Benchmark variando k y Alfa \\n')\n",
    "plt.xlabel('k')\n",
    "plt.ylabel('Alfa')\n",
    "heatmap.get_figure().savefig('heatmap_time_alpha_k')"
   ]
  },
  {
   "cell_type": "code",
   "execution_count": null,
   "metadata": {
    "collapsed": true
   },
   "outputs": [],
   "source": []
  }
 ],
 "metadata": {
  "kernelspec": {
   "display_name": "Python 2",
   "language": "python",
   "name": "python2"
  },
  "language_info": {
   "codemirror_mode": {
    "name": "ipython",
    "version": 2
   },
   "file_extension": ".py",
   "mimetype": "text/x-python",
   "name": "python",
   "nbconvert_exporter": "python",
   "pygments_lexer": "ipython2",
   "version": "2.7.14"
  }
 },
 "nbformat": 4,
 "nbformat_minor": 2
}
