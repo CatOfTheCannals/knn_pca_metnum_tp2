{
 "cells": [
  {
   "cell_type": "markdown",
   "metadata": {},
   "source": [
    "# Knn Metrics"
   ]
  },
  {
   "cell_type": "markdown",
   "metadata": {},
   "source": [
    "#### This wea below serves the purpose of getting all Knn metrics from the directory into a dataframe:"
   ]
  },
  {
   "cell_type": "code",
   "execution_count": 53,
   "metadata": {
    "scrolled": true
   },
   "outputs": [
    {
     "name": "stdout",
     "output_type": "stream",
     "text": [
      "all_metrics.shape\n",
      "(30, 4)\n"
     ]
    },
    {
     "data": {
      "text/html": [
       "<div>\n",
       "<style scoped>\n",
       "    .dataframe tbody tr th:only-of-type {\n",
       "        vertical-align: middle;\n",
       "    }\n",
       "\n",
       "    .dataframe tbody tr th {\n",
       "        vertical-align: top;\n",
       "    }\n",
       "\n",
       "    .dataframe thead th {\n",
       "        text-align: right;\n",
       "    }\n",
       "</style>\n",
       "<table border=\"1\" class=\"dataframe\">\n",
       "  <thead>\n",
       "    <tr style=\"text-align: right;\">\n",
       "      <th></th>\n",
       "      <th>accuracy</th>\n",
       "      <th>groundTruth</th>\n",
       "      <th>prediction</th>\n",
       "      <th>k</th>\n",
       "    </tr>\n",
       "  </thead>\n",
       "  <tbody>\n",
       "    <tr>\n",
       "      <th>0</th>\n",
       "      <td>0.963415</td>\n",
       "      <td>[1, 1, 2, 2, 3, 3, 4, 4, 5, 5, 6, 6, 7, 7, 8, ...</td>\n",
       "      <td>[1, 1, 2, 2, 3, 3, 4, 4, 18, 5, 6, 6, 7, 7, 8,...</td>\n",
       "      <td>1</td>\n",
       "    </tr>\n",
       "    <tr>\n",
       "      <th>1</th>\n",
       "      <td>0.951220</td>\n",
       "      <td>[1, 1, 2, 2, 3, 3, 4, 4, 5, 5, 6, 6, 7, 7, 8, ...</td>\n",
       "      <td>[1, 25, 2, 2, 3, 3, 4, 4, 5, 5, 6, 6, 7, 7, 8,...</td>\n",
       "      <td>1</td>\n",
       "    </tr>\n",
       "    <tr>\n",
       "      <th>2</th>\n",
       "      <td>0.975610</td>\n",
       "      <td>[1, 1, 2, 2, 3, 3, 4, 4, 5, 5, 6, 6, 7, 7, 8, ...</td>\n",
       "      <td>[25, 1, 2, 2, 3, 3, 4, 4, 5, 5, 6, 6, 7, 7, 8,...</td>\n",
       "      <td>1</td>\n",
       "    </tr>\n",
       "    <tr>\n",
       "      <th>3</th>\n",
       "      <td>1.000000</td>\n",
       "      <td>[1, 1, 2, 2, 3, 3, 4, 4, 5, 5, 6, 6, 7, 7, 8, ...</td>\n",
       "      <td>[1, 1, 2, 2, 3, 3, 4, 4, 5, 5, 6, 6, 7, 7, 8, ...</td>\n",
       "      <td>1</td>\n",
       "    </tr>\n",
       "    <tr>\n",
       "      <th>4</th>\n",
       "      <td>1.000000</td>\n",
       "      <td>[1, 1, 2, 2, 3, 3, 4, 4, 5, 5, 6, 6, 7, 7, 8, ...</td>\n",
       "      <td>[1, 1, 2, 2, 3, 3, 4, 4, 5, 5, 6, 6, 7, 7, 8, ...</td>\n",
       "      <td>1</td>\n",
       "    </tr>\n",
       "  </tbody>\n",
       "</table>\n",
       "</div>"
      ],
      "text/plain": [
       "   accuracy                                        groundTruth  \\\n",
       "0  0.963415  [1, 1, 2, 2, 3, 3, 4, 4, 5, 5, 6, 6, 7, 7, 8, ...   \n",
       "1  0.951220  [1, 1, 2, 2, 3, 3, 4, 4, 5, 5, 6, 6, 7, 7, 8, ...   \n",
       "2  0.975610  [1, 1, 2, 2, 3, 3, 4, 4, 5, 5, 6, 6, 7, 7, 8, ...   \n",
       "3  1.000000  [1, 1, 2, 2, 3, 3, 4, 4, 5, 5, 6, 6, 7, 7, 8, ...   \n",
       "4  1.000000  [1, 1, 2, 2, 3, 3, 4, 4, 5, 5, 6, 6, 7, 7, 8, ...   \n",
       "\n",
       "                                          prediction  k  \n",
       "0  [1, 1, 2, 2, 3, 3, 4, 4, 18, 5, 6, 6, 7, 7, 8,...  1  \n",
       "1  [1, 25, 2, 2, 3, 3, 4, 4, 5, 5, 6, 6, 7, 7, 8,...  1  \n",
       "2  [25, 1, 2, 2, 3, 3, 4, 4, 5, 5, 6, 6, 7, 7, 8,...  1  \n",
       "3  [1, 1, 2, 2, 3, 3, 4, 4, 5, 5, 6, 6, 7, 7, 8, ...  1  \n",
       "4  [1, 1, 2, 2, 3, 3, 4, 4, 5, 5, 6, 6, 7, 7, 8, ...  1  "
      ]
     },
     "execution_count": 53,
     "metadata": {},
     "output_type": "execute_result"
    }
   ],
   "source": [
    "import os\n",
    "import pandas as pd\n",
    "import numpy as np\n",
    "\n",
    "metric_dump_dir='../results/knn_metrics/'\n",
    "metric_files = os.listdir(metric_dump_dir)\n",
    "\n",
    "all_metrics = []\n",
    "for filename in metric_files:\n",
    "    transient_df = pd.read_csv(metric_dump_dir + filename)\n",
    "    transient_df['groundTruth'] = transient_df['groundTruth'].map(eval).map(np.array)\n",
    "    transient_df['prediction'] = transient_df['prediction'].map(eval).map(np.array)\n",
    "    \n",
    "    # this only works if the filename has only one numeric parameter\n",
    "    digits = [s for s in filename if s.isdigit()]\n",
    "    k = int(\"\".join(digits))\n",
    "    transient_df['k'] = k \n",
    "    \n",
    "    all_metrics.append(transient_df)\n",
    "    \n",
    "all_metrics = pd.concat(all_metrics).reset_index(drop=True)\n",
    "print('all_metrics.shape')\n",
    "print(all_metrics.shape)\n",
    "all_metrics.head()\n"
   ]
  },
  {
   "cell_type": "markdown",
   "metadata": {},
   "source": [
    "#### Compute metrics:"
   ]
  },
  {
   "cell_type": "code",
   "execution_count": 62,
   "metadata": {},
   "outputs": [
    {
     "name": "stdout",
     "output_type": "stream",
     "text": [
      "recall 0.975609756098\n",
      "precision at 0.975609756098\n"
     ]
    }
   ],
   "source": [
    "def recall_at_k(truth_vs_pred, person):\n",
    "    positive_examples = truth_vs_pred[truth_vs_pred['groundTruth'] == person]\n",
    "    recall = sum(positive_examples['match']) / float(len(positive_examples['match']))\n",
    "    return recall\n",
    "\n",
    "def precision_at_k(truth_vs_pred, person):\n",
    "    retrieved_examples = truth_vs_pred[truth_vs_pred['prediction'] == person]\n",
    "    precision = sum(retrieved_examples['match']) / float(len(positive_examples['match']))\n",
    "    return precision\n",
    "\n",
    "def average_recall(truth_vs_pred):\n",
    "    all_recalls = [recall_at_k(truth_vs_pred, i) for i in range(1,42)]\n",
    "    return np.mean(all_recalls)\n",
    "\n",
    "def average_precision(truth_vs_pred):\n",
    "    all_precision = [precision_at_k(truth_vs_pred, i) for i in range(1,42)]\n",
    "    return np.mean(all_precision)\n",
    "\n",
    "def make_matches_df(groundTruth, prediction):\n",
    "    truth_vs_pred = pd.DataFrame({'groundTruth':groundTruth, 'prediction':prediction})\n",
    "    truth_vs_pred['match'] = truth_vs_pred['groundTruth'] == truth_vs_pred['prediction']\n",
    "    return truth_vs_pred\n",
    "\n",
    "groundTruth, prediction = all_metrics[['groundTruth','prediction']].iloc[2]\n",
    "truth_vs_pred = make_matches_df(groundTruth, prediction)\n",
    "r = average_recall(truth_vs_pred)\n",
    "p = average_precision(truth_vs_pred)\n",
    "\n",
    "print('recall {}'.format(r))\n",
    "print('precision at {}'.format(p))\n"
   ]
  },
  {
   "cell_type": "code",
   "execution_count": 68,
   "metadata": {},
   "outputs": [
    {
     "data": {
      "text/html": [
       "<div>\n",
       "<style scoped>\n",
       "    .dataframe tbody tr th:only-of-type {\n",
       "        vertical-align: middle;\n",
       "    }\n",
       "\n",
       "    .dataframe tbody tr th {\n",
       "        vertical-align: top;\n",
       "    }\n",
       "\n",
       "    .dataframe thead th {\n",
       "        text-align: right;\n",
       "    }\n",
       "</style>\n",
       "<table border=\"1\" class=\"dataframe\">\n",
       "  <thead>\n",
       "    <tr style=\"text-align: right;\">\n",
       "      <th></th>\n",
       "      <th>accuracy</th>\n",
       "      <th>groundTruth</th>\n",
       "      <th>prediction</th>\n",
       "      <th>k</th>\n",
       "      <th>confusion_matrix</th>\n",
       "      <th>recalls</th>\n",
       "      <th>precisions</th>\n",
       "      <th>recall</th>\n",
       "      <th>precision</th>\n",
       "      <th>F1</th>\n",
       "    </tr>\n",
       "  </thead>\n",
       "  <tbody>\n",
       "    <tr>\n",
       "      <th>0</th>\n",
       "      <td>0.963415</td>\n",
       "      <td>[1, 1, 2, 2, 3, 3, 4, 4, 5, 5, 6, 6, 7, 7, 8, ...</td>\n",
       "      <td>[1, 1, 2, 2, 3, 3, 4, 4, 18, 5, 6, 6, 7, 7, 8,...</td>\n",
       "      <td>1</td>\n",
       "      <td>[[2, 0, 0, 0, 0, 0, 0, 0, 0, 0, 0, 0, 0, 0, 0,...</td>\n",
       "      <td>0.963415</td>\n",
       "      <td>0.963415</td>\n",
       "      <td>0.963415</td>\n",
       "      <td>0.963415</td>\n",
       "      <td>0.963415</td>\n",
       "    </tr>\n",
       "    <tr>\n",
       "      <th>1</th>\n",
       "      <td>0.951220</td>\n",
       "      <td>[1, 1, 2, 2, 3, 3, 4, 4, 5, 5, 6, 6, 7, 7, 8, ...</td>\n",
       "      <td>[1, 25, 2, 2, 3, 3, 4, 4, 5, 5, 6, 6, 7, 7, 8,...</td>\n",
       "      <td>1</td>\n",
       "      <td>[[1, 0, 0, 0, 0, 0, 0, 0, 0, 0, 0, 0, 0, 0, 0,...</td>\n",
       "      <td>0.951220</td>\n",
       "      <td>0.951220</td>\n",
       "      <td>0.951220</td>\n",
       "      <td>0.951220</td>\n",
       "      <td>0.951220</td>\n",
       "    </tr>\n",
       "    <tr>\n",
       "      <th>2</th>\n",
       "      <td>0.975610</td>\n",
       "      <td>[1, 1, 2, 2, 3, 3, 4, 4, 5, 5, 6, 6, 7, 7, 8, ...</td>\n",
       "      <td>[25, 1, 2, 2, 3, 3, 4, 4, 5, 5, 6, 6, 7, 7, 8,...</td>\n",
       "      <td>1</td>\n",
       "      <td>[[1, 0, 0, 0, 0, 0, 0, 0, 0, 0, 0, 0, 0, 0, 0,...</td>\n",
       "      <td>0.975610</td>\n",
       "      <td>0.975610</td>\n",
       "      <td>0.975610</td>\n",
       "      <td>0.975610</td>\n",
       "      <td>0.975610</td>\n",
       "    </tr>\n",
       "    <tr>\n",
       "      <th>3</th>\n",
       "      <td>1.000000</td>\n",
       "      <td>[1, 1, 2, 2, 3, 3, 4, 4, 5, 5, 6, 6, 7, 7, 8, ...</td>\n",
       "      <td>[1, 1, 2, 2, 3, 3, 4, 4, 5, 5, 6, 6, 7, 7, 8, ...</td>\n",
       "      <td>1</td>\n",
       "      <td>[[2, 0, 0, 0, 0, 0, 0, 0, 0, 0, 0, 0, 0, 0, 0,...</td>\n",
       "      <td>1.000000</td>\n",
       "      <td>1.000000</td>\n",
       "      <td>1.000000</td>\n",
       "      <td>1.000000</td>\n",
       "      <td>1.000000</td>\n",
       "    </tr>\n",
       "    <tr>\n",
       "      <th>4</th>\n",
       "      <td>1.000000</td>\n",
       "      <td>[1, 1, 2, 2, 3, 3, 4, 4, 5, 5, 6, 6, 7, 7, 8, ...</td>\n",
       "      <td>[1, 1, 2, 2, 3, 3, 4, 4, 5, 5, 6, 6, 7, 7, 8, ...</td>\n",
       "      <td>1</td>\n",
       "      <td>[[2, 0, 0, 0, 0, 0, 0, 0, 0, 0, 0, 0, 0, 0, 0,...</td>\n",
       "      <td>1.000000</td>\n",
       "      <td>1.000000</td>\n",
       "      <td>1.000000</td>\n",
       "      <td>1.000000</td>\n",
       "      <td>1.000000</td>\n",
       "    </tr>\n",
       "  </tbody>\n",
       "</table>\n",
       "</div>"
      ],
      "text/plain": [
       "   accuracy                                        groundTruth  \\\n",
       "0  0.963415  [1, 1, 2, 2, 3, 3, 4, 4, 5, 5, 6, 6, 7, 7, 8, ...   \n",
       "1  0.951220  [1, 1, 2, 2, 3, 3, 4, 4, 5, 5, 6, 6, 7, 7, 8, ...   \n",
       "2  0.975610  [1, 1, 2, 2, 3, 3, 4, 4, 5, 5, 6, 6, 7, 7, 8, ...   \n",
       "3  1.000000  [1, 1, 2, 2, 3, 3, 4, 4, 5, 5, 6, 6, 7, 7, 8, ...   \n",
       "4  1.000000  [1, 1, 2, 2, 3, 3, 4, 4, 5, 5, 6, 6, 7, 7, 8, ...   \n",
       "\n",
       "                                          prediction  k  \\\n",
       "0  [1, 1, 2, 2, 3, 3, 4, 4, 18, 5, 6, 6, 7, 7, 8,...  1   \n",
       "1  [1, 25, 2, 2, 3, 3, 4, 4, 5, 5, 6, 6, 7, 7, 8,...  1   \n",
       "2  [25, 1, 2, 2, 3, 3, 4, 4, 5, 5, 6, 6, 7, 7, 8,...  1   \n",
       "3  [1, 1, 2, 2, 3, 3, 4, 4, 5, 5, 6, 6, 7, 7, 8, ...  1   \n",
       "4  [1, 1, 2, 2, 3, 3, 4, 4, 5, 5, 6, 6, 7, 7, 8, ...  1   \n",
       "\n",
       "                                    confusion_matrix   recalls  precisions  \\\n",
       "0  [[2, 0, 0, 0, 0, 0, 0, 0, 0, 0, 0, 0, 0, 0, 0,...  0.963415    0.963415   \n",
       "1  [[1, 0, 0, 0, 0, 0, 0, 0, 0, 0, 0, 0, 0, 0, 0,...  0.951220    0.951220   \n",
       "2  [[1, 0, 0, 0, 0, 0, 0, 0, 0, 0, 0, 0, 0, 0, 0,...  0.975610    0.975610   \n",
       "3  [[2, 0, 0, 0, 0, 0, 0, 0, 0, 0, 0, 0, 0, 0, 0,...  1.000000    1.000000   \n",
       "4  [[2, 0, 0, 0, 0, 0, 0, 0, 0, 0, 0, 0, 0, 0, 0,...  1.000000    1.000000   \n",
       "\n",
       "     recall  precision        F1  \n",
       "0  0.963415   0.963415  0.963415  \n",
       "1  0.951220   0.951220  0.951220  \n",
       "2  0.975610   0.975610  0.975610  \n",
       "3  1.000000   1.000000  1.000000  \n",
       "4  1.000000   1.000000  1.000000  "
      ]
     },
     "execution_count": 68,
     "metadata": {},
     "output_type": "execute_result"
    }
   ],
   "source": [
    "recall = [average_recall(make_matches_df(*row[1].values))\n",
    "                                   for row in all_metrics[['groundTruth','prediction']].iterrows()]\n",
    "precision = [average_precision(make_matches_df(*row[1].values))\n",
    "                                   for row in all_metrics[['groundTruth','prediction']].iterrows()]\n",
    "all_metrics['recall'] = recall\n",
    "all_metrics['precision'] = precision\n",
    "all_metrics['F1'] = 2 * all_metrics['recall'] * all_metrics['precision'] / (all_metrics['recall'] + all_metrics['precision'] )\n",
    "all_metrics.head()"
   ]
  },
  {
   "cell_type": "code",
   "execution_count": 69,
   "metadata": {},
   "outputs": [
    {
     "data": {
      "image/png": "[encoded data removed]",
      "text/plain": [
       "<matplotlib.figure.Figure at 0x11127cdd0>"
      ]
     },
     "metadata": {},
     "output_type": "display_data"
    },
    {
     "data": {
      "image/png": "[encoded data removed]",
      "text/plain": [
       "<matplotlib.figure.Figure at 0x110c74410>"
      ]
     },
     "metadata": {},
     "output_type": "display_data"
    },
    {
     "data": {
      "image/png": "[encoded data removed]",
      "text/plain": [
       "<matplotlib.figure.Figure at 0x1110c7090>"
      ]
     },
     "metadata": {},
     "output_type": "display_data"
    },
    {
     "data": {
      "image/png": "[encoded data removed]",
      "text/plain": [
       "<matplotlib.figure.Figure at 0x11156fdd0>"
      ]
     },
     "metadata": {},
     "output_type": "display_data"
    }
   ],
   "source": [
    "%matplotlib inline\n",
    "def plot_k_vs_metric(metric_name):\n",
    "    acc_per_k = all_metrics.groupby(['k'],as_index=False)[metric_name].mean()\n",
    "    plotname = 'knn_k_vs_{}'.format(metric_name)\n",
    "    acc_per_k.plot.scatter(x='k',y=metric_name, title=plotname)\n",
    "plot_k_vs_metric('accuracy')\n",
    "plot_k_vs_metric('recall')\n",
    "plot_k_vs_metric('precision')\n",
    "plot_k_vs_metric('F1')\n",
    "\n"
   ]
  },
  {
   "cell_type": "markdown",
   "metadata": {},
   "source": [
    "#### Calculate and plot confusion matrices"
   ]
  },
  {
   "cell_type": "code",
   "execution_count": 54,
   "metadata": {},
   "outputs": [
    {
     "data": {
      "text/html": [
       "<div>\n",
       "<style scoped>\n",
       "    .dataframe tbody tr th:only-of-type {\n",
       "        vertical-align: middle;\n",
       "    }\n",
       "\n",
       "    .dataframe tbody tr th {\n",
       "        vertical-align: top;\n",
       "    }\n",
       "\n",
       "    .dataframe thead th {\n",
       "        text-align: right;\n",
       "    }\n",
       "</style>\n",
       "<table border=\"1\" class=\"dataframe\">\n",
       "  <thead>\n",
       "    <tr style=\"text-align: right;\">\n",
       "      <th></th>\n",
       "      <th>accuracy</th>\n",
       "      <th>groundTruth</th>\n",
       "      <th>prediction</th>\n",
       "      <th>k</th>\n",
       "      <th>confusion_matrix</th>\n",
       "    </tr>\n",
       "  </thead>\n",
       "  <tbody>\n",
       "    <tr>\n",
       "      <th>0</th>\n",
       "      <td>0.963415</td>\n",
       "      <td>[1, 1, 2, 2, 3, 3, 4, 4, 5, 5, 6, 6, 7, 7, 8, ...</td>\n",
       "      <td>[1, 1, 2, 2, 3, 3, 4, 4, 18, 5, 6, 6, 7, 7, 8,...</td>\n",
       "      <td>1</td>\n",
       "      <td>[[2, 0, 0, 0, 0, 0, 0, 0, 0, 0, 0, 0, 0, 0, 0,...</td>\n",
       "    </tr>\n",
       "    <tr>\n",
       "      <th>1</th>\n",
       "      <td>0.951220</td>\n",
       "      <td>[1, 1, 2, 2, 3, 3, 4, 4, 5, 5, 6, 6, 7, 7, 8, ...</td>\n",
       "      <td>[1, 25, 2, 2, 3, 3, 4, 4, 5, 5, 6, 6, 7, 7, 8,...</td>\n",
       "      <td>1</td>\n",
       "      <td>[[1, 0, 0, 0, 0, 0, 0, 0, 0, 0, 0, 0, 0, 0, 0,...</td>\n",
       "    </tr>\n",
       "    <tr>\n",
       "      <th>2</th>\n",
       "      <td>0.975610</td>\n",
       "      <td>[1, 1, 2, 2, 3, 3, 4, 4, 5, 5, 6, 6, 7, 7, 8, ...</td>\n",
       "      <td>[25, 1, 2, 2, 3, 3, 4, 4, 5, 5, 6, 6, 7, 7, 8,...</td>\n",
       "      <td>1</td>\n",
       "      <td>[[1, 0, 0, 0, 0, 0, 0, 0, 0, 0, 0, 0, 0, 0, 0,...</td>\n",
       "    </tr>\n",
       "    <tr>\n",
       "      <th>3</th>\n",
       "      <td>1.000000</td>\n",
       "      <td>[1, 1, 2, 2, 3, 3, 4, 4, 5, 5, 6, 6, 7, 7, 8, ...</td>\n",
       "      <td>[1, 1, 2, 2, 3, 3, 4, 4, 5, 5, 6, 6, 7, 7, 8, ...</td>\n",
       "      <td>1</td>\n",
       "      <td>[[2, 0, 0, 0, 0, 0, 0, 0, 0, 0, 0, 0, 0, 0, 0,...</td>\n",
       "    </tr>\n",
       "    <tr>\n",
       "      <th>4</th>\n",
       "      <td>1.000000</td>\n",
       "      <td>[1, 1, 2, 2, 3, 3, 4, 4, 5, 5, 6, 6, 7, 7, 8, ...</td>\n",
       "      <td>[1, 1, 2, 2, 3, 3, 4, 4, 5, 5, 6, 6, 7, 7, 8, ...</td>\n",
       "      <td>1</td>\n",
       "      <td>[[2, 0, 0, 0, 0, 0, 0, 0, 0, 0, 0, 0, 0, 0, 0,...</td>\n",
       "    </tr>\n",
       "  </tbody>\n",
       "</table>\n",
       "</div>"
      ],
      "text/plain": [
       "   accuracy                                        groundTruth  \\\n",
       "0  0.963415  [1, 1, 2, 2, 3, 3, 4, 4, 5, 5, 6, 6, 7, 7, 8, ...   \n",
       "1  0.951220  [1, 1, 2, 2, 3, 3, 4, 4, 5, 5, 6, 6, 7, 7, 8, ...   \n",
       "2  0.975610  [1, 1, 2, 2, 3, 3, 4, 4, 5, 5, 6, 6, 7, 7, 8, ...   \n",
       "3  1.000000  [1, 1, 2, 2, 3, 3, 4, 4, 5, 5, 6, 6, 7, 7, 8, ...   \n",
       "4  1.000000  [1, 1, 2, 2, 3, 3, 4, 4, 5, 5, 6, 6, 7, 7, 8, ...   \n",
       "\n",
       "                                          prediction  k  \\\n",
       "0  [1, 1, 2, 2, 3, 3, 4, 4, 18, 5, 6, 6, 7, 7, 8,...  1   \n",
       "1  [1, 25, 2, 2, 3, 3, 4, 4, 5, 5, 6, 6, 7, 7, 8,...  1   \n",
       "2  [25, 1, 2, 2, 3, 3, 4, 4, 5, 5, 6, 6, 7, 7, 8,...  1   \n",
       "3  [1, 1, 2, 2, 3, 3, 4, 4, 5, 5, 6, 6, 7, 7, 8, ...  1   \n",
       "4  [1, 1, 2, 2, 3, 3, 4, 4, 5, 5, 6, 6, 7, 7, 8, ...  1   \n",
       "\n",
       "                                    confusion_matrix  \n",
       "0  [[2, 0, 0, 0, 0, 0, 0, 0, 0, 0, 0, 0, 0, 0, 0,...  \n",
       "1  [[1, 0, 0, 0, 0, 0, 0, 0, 0, 0, 0, 0, 0, 0, 0,...  \n",
       "2  [[1, 0, 0, 0, 0, 0, 0, 0, 0, 0, 0, 0, 0, 0, 0,...  \n",
       "3  [[2, 0, 0, 0, 0, 0, 0, 0, 0, 0, 0, 0, 0, 0, 0,...  \n",
       "4  [[2, 0, 0, 0, 0, 0, 0, 0, 0, 0, 0, 0, 0, 0, 0,...  "
      ]
     },
     "execution_count": 54,
     "metadata": {},
     "output_type": "execute_result"
    }
   ],
   "source": [
    "from sklearn.metrics import confusion_matrix\n",
    "all_metrics['confusion_matrix'] = [confusion_matrix(*row[1].values) \n",
    "                                   for row in all_metrics[['groundTruth','prediction']].iterrows()]\n",
    "all_metrics.head()"
   ]
  },
  {
   "cell_type": "code",
   "execution_count": 56,
   "metadata": {
    "scrolled": true
   },
   "outputs": [
    {
     "name": "stdout",
     "output_type": "stream",
     "text": [
      "Confusion matrix for k = 1\n"
     ]
    },
    {
     "data": {
      "image/png": "[encoded data removed]",
      "text/plain": [
       "<matplotlib.figure.Figure at 0x11129f210>"
      ]
     },
     "metadata": {},
     "output_type": "display_data"
    },
    {
     "name": "stdout",
     "output_type": "stream",
     "text": [
      "Confusion matrix for k = 3\n"
     ]
    },
    {
     "data": {
      "image/png": "[encoded data removed]",
      "text/plain": [
       "<matplotlib.figure.Figure at 0x11142ae90>"
      ]
     },
     "metadata": {},
     "output_type": "display_data"
    },
    {
     "name": "stdout",
     "output_type": "stream",
     "text": [
      "Confusion matrix for k = 8\n"
     ]
    },
    {
     "data": {
      "image/png": "[encoded data removed]",
      "text/plain": [
       "<matplotlib.figure.Figure at 0x111006fd0>"
      ]
     },
     "metadata": {},
     "output_type": "display_data"
    },
    {
     "name": "stdout",
     "output_type": "stream",
     "text": [
      "Confusion matrix for k = 10\n"
     ]
    },
    {
     "data": {
      "image/png": "[encoded data removed]",
      "text/plain": [
       "<matplotlib.figure.Figure at 0x110c6df10>"
      ]
     },
     "metadata": {},
     "output_type": "display_data"
    },
    {
     "name": "stdout",
     "output_type": "stream",
     "text": [
      "Confusion matrix for k = 15\n"
     ]
    },
    {
     "data": {
      "image/png": "[encoded data removed]",
      "text/plain": [
       "<matplotlib.figure.Figure at 0x110c75690>"
      ]
     },
     "metadata": {},
     "output_type": "display_data"
    },
    {
     "name": "stdout",
     "output_type": "stream",
     "text": [
      "Confusion matrix for k = 25\n"
     ]
    },
    {
     "data": {
      "image/png": "[encoded data removed]",
      "text/plain": [
       "<matplotlib.figure.Figure at 0x11142add0>"
      ]
     },
     "metadata": {},
     "output_type": "display_data"
    }
   ],
   "source": [
    "import matplotlib.pyplot as plt\n",
    "\n",
    "def plot_confusion_matrix(cnf_matrix):\n",
    "    plt.matshow(cnf_matrix)\n",
    "    plt.colorbar()\n",
    "    plt.show()\n",
    "\n",
    "grouped_matrices =  all_metrics.groupby(['k'],as_index=False)['confusion_matrix'].sum()\n",
    "for k in sorted(list(set(grouped_matrices['k'])), key=int):\n",
    "    print('Confusion matrix for k = {}'.format(k))\n",
    "    plot_confusion_matrix(*grouped_matrices[grouped_matrices['k'] == k]['confusion_matrix'].values)"
   ]
  }
 ],
 "metadata": {
  "kernelspec": {
   "display_name": "Python 2",
   "language": "python",
   "name": "python2"
  }
 },
 "nbformat": 4,
 "nbformat_minor": 2
}
